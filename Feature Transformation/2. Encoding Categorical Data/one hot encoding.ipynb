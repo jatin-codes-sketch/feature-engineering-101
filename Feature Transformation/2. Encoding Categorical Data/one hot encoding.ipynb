{
 "cells": [
  {
   "cell_type": "markdown",
   "id": "071c16bf",
   "metadata": {},
   "source": [
    "# One Hot Encoding "
   ]
  },
  {
   "cell_type": "markdown",
   "id": "f5611f7b",
   "metadata": {},
   "source": [
    "#### It is technique used to convert categorical data into a binary matrix (or a series of binary vectors), where each category is represented as separate column, and a 1 or 0 is used to indicate the presence or absence of a category in a given observation.\n",
    "\n",
    "#### This encoding is espically useful for nominal (categorical) data where no ordinal relationship exists between the categories. One-Hot Encoding eliminates the risk of introducing unintended ordinal relationships (like with label necoding) because each category get its own unique binary column.\n",
    "\n",
    "#### Key characteristics of One-Hot encoding :\n",
    "* binary representation\n",
    "* no assumed order \n",
    "* used for nominal data\n",
    "\n",
    "#### example of One-Hot encoding\n",
    "###### ['Red', 'Blue', 'Green', 'Blue', 'Red']\n",
    "| Color | Red | Blue | Green |\n",
    "|-------|-----|------|-------|\n",
    "| Red   |  1  |   0  |   0   |\n",
    "| Blue  |  0  |   1  |   0   |\n",
    "| Green |  0  |   0  |   1   |\n",
    "| Blue  |  0  |   1  |   0   |\n",
    "| Red   |  1  |   0  |   0   |\n"
   ]
  },
  {
   "cell_type": "markdown",
   "id": "f0bbcd2a",
   "metadata": {},
   "source": []
  },
  {
   "cell_type": "code",
   "execution_count": 1,
   "id": "8ba5e432",
   "metadata": {},
   "outputs": [
    {
     "data": {
      "text/html": [
       "<div>\n",
       "<style scoped>\n",
       "    .dataframe tbody tr th:only-of-type {\n",
       "        vertical-align: middle;\n",
       "    }\n",
       "\n",
       "    .dataframe tbody tr th {\n",
       "        vertical-align: top;\n",
       "    }\n",
       "\n",
       "    .dataframe thead th {\n",
       "        text-align: right;\n",
       "    }\n",
       "</style>\n",
       "<table border=\"1\" class=\"dataframe\">\n",
       "  <thead>\n",
       "    <tr style=\"text-align: right;\">\n",
       "      <th></th>\n",
       "      <th>Customer_ID</th>\n",
       "      <th>Favorite_Color</th>\n",
       "      <th>Preferred_Store</th>\n",
       "      <th>Subscription_Type</th>\n",
       "      <th>Feedback</th>\n",
       "    </tr>\n",
       "  </thead>\n",
       "  <tbody>\n",
       "    <tr>\n",
       "      <th>0</th>\n",
       "      <td>101</td>\n",
       "      <td>Red</td>\n",
       "      <td>Store A</td>\n",
       "      <td>Basic</td>\n",
       "      <td>Good</td>\n",
       "    </tr>\n",
       "    <tr>\n",
       "      <th>1</th>\n",
       "      <td>102</td>\n",
       "      <td>Blue</td>\n",
       "      <td>Store B</td>\n",
       "      <td>Premium</td>\n",
       "      <td>Bad</td>\n",
       "    </tr>\n",
       "    <tr>\n",
       "      <th>2</th>\n",
       "      <td>103</td>\n",
       "      <td>Green</td>\n",
       "      <td>Store C</td>\n",
       "      <td>Premium</td>\n",
       "      <td>Neutral</td>\n",
       "    </tr>\n",
       "    <tr>\n",
       "      <th>3</th>\n",
       "      <td>104</td>\n",
       "      <td>Yellow</td>\n",
       "      <td>Store A</td>\n",
       "      <td>Basic</td>\n",
       "      <td>Good</td>\n",
       "    </tr>\n",
       "    <tr>\n",
       "      <th>4</th>\n",
       "      <td>105</td>\n",
       "      <td>Blue</td>\n",
       "      <td>Store B</td>\n",
       "      <td>Basic</td>\n",
       "      <td>Bad</td>\n",
       "    </tr>\n",
       "  </tbody>\n",
       "</table>\n",
       "</div>"
      ],
      "text/plain": [
       "   Customer_ID Favorite_Color Preferred_Store Subscription_Type Feedback\n",
       "0          101            Red         Store A             Basic     Good\n",
       "1          102           Blue         Store B           Premium      Bad\n",
       "2          103          Green         Store C           Premium  Neutral\n",
       "3          104         Yellow         Store A             Basic     Good\n",
       "4          105           Blue         Store B             Basic      Bad"
      ]
     },
     "execution_count": 1,
     "metadata": {},
     "output_type": "execute_result"
    }
   ],
   "source": [
    "import pandas as pd \n",
    "import numpy as np\n",
    "\n",
    "df=pd.read_csv(r'C:\\Users\\Lenovo\\Downloads\\nominal_data.csv')\n",
    "df.head()"
   ]
  },
  {
   "cell_type": "markdown",
   "id": "73bcd9ee",
   "metadata": {},
   "source": [
    "### one hot encoding using pandas"
   ]
  },
  {
   "cell_type": "code",
   "execution_count": 3,
   "id": "7a8bc4f4",
   "metadata": {},
   "outputs": [
    {
     "data": {
      "text/html": [
       "<div>\n",
       "<style scoped>\n",
       "    .dataframe tbody tr th:only-of-type {\n",
       "        vertical-align: middle;\n",
       "    }\n",
       "\n",
       "    .dataframe tbody tr th {\n",
       "        vertical-align: top;\n",
       "    }\n",
       "\n",
       "    .dataframe thead th {\n",
       "        text-align: right;\n",
       "    }\n",
       "</style>\n",
       "<table border=\"1\" class=\"dataframe\">\n",
       "  <thead>\n",
       "    <tr style=\"text-align: right;\">\n",
       "      <th></th>\n",
       "      <th>Customer_ID</th>\n",
       "      <th>Subscription_Type</th>\n",
       "      <th>Feedback</th>\n",
       "      <th>Favorite_Color_Green</th>\n",
       "      <th>Favorite_Color_Red</th>\n",
       "      <th>Favorite_Color_Yellow</th>\n",
       "      <th>Preferred_Store_Store B</th>\n",
       "      <th>Preferred_Store_Store C</th>\n",
       "    </tr>\n",
       "  </thead>\n",
       "  <tbody>\n",
       "    <tr>\n",
       "      <th>0</th>\n",
       "      <td>101</td>\n",
       "      <td>Basic</td>\n",
       "      <td>Good</td>\n",
       "      <td>False</td>\n",
       "      <td>True</td>\n",
       "      <td>False</td>\n",
       "      <td>False</td>\n",
       "      <td>False</td>\n",
       "    </tr>\n",
       "    <tr>\n",
       "      <th>1</th>\n",
       "      <td>102</td>\n",
       "      <td>Premium</td>\n",
       "      <td>Bad</td>\n",
       "      <td>False</td>\n",
       "      <td>False</td>\n",
       "      <td>False</td>\n",
       "      <td>True</td>\n",
       "      <td>False</td>\n",
       "    </tr>\n",
       "    <tr>\n",
       "      <th>2</th>\n",
       "      <td>103</td>\n",
       "      <td>Premium</td>\n",
       "      <td>Neutral</td>\n",
       "      <td>True</td>\n",
       "      <td>False</td>\n",
       "      <td>False</td>\n",
       "      <td>False</td>\n",
       "      <td>True</td>\n",
       "    </tr>\n",
       "    <tr>\n",
       "      <th>3</th>\n",
       "      <td>104</td>\n",
       "      <td>Basic</td>\n",
       "      <td>Good</td>\n",
       "      <td>False</td>\n",
       "      <td>False</td>\n",
       "      <td>True</td>\n",
       "      <td>False</td>\n",
       "      <td>False</td>\n",
       "    </tr>\n",
       "    <tr>\n",
       "      <th>4</th>\n",
       "      <td>105</td>\n",
       "      <td>Basic</td>\n",
       "      <td>Bad</td>\n",
       "      <td>False</td>\n",
       "      <td>False</td>\n",
       "      <td>False</td>\n",
       "      <td>True</td>\n",
       "      <td>False</td>\n",
       "    </tr>\n",
       "    <tr>\n",
       "      <th>5</th>\n",
       "      <td>106</td>\n",
       "      <td>Premium</td>\n",
       "      <td>Neutral</td>\n",
       "      <td>False</td>\n",
       "      <td>True</td>\n",
       "      <td>False</td>\n",
       "      <td>False</td>\n",
       "      <td>True</td>\n",
       "    </tr>\n",
       "  </tbody>\n",
       "</table>\n",
       "</div>"
      ],
      "text/plain": [
       "   Customer_ID Subscription_Type Feedback  Favorite_Color_Green  \\\n",
       "0          101             Basic     Good                 False   \n",
       "1          102           Premium      Bad                 False   \n",
       "2          103           Premium  Neutral                  True   \n",
       "3          104             Basic     Good                 False   \n",
       "4          105             Basic      Bad                 False   \n",
       "5          106           Premium  Neutral                 False   \n",
       "\n",
       "   Favorite_Color_Red  Favorite_Color_Yellow  Preferred_Store_Store B  \\\n",
       "0                True                  False                    False   \n",
       "1               False                  False                     True   \n",
       "2               False                  False                    False   \n",
       "3               False                   True                    False   \n",
       "4               False                  False                     True   \n",
       "5                True                  False                    False   \n",
       "\n",
       "   Preferred_Store_Store C  \n",
       "0                    False  \n",
       "1                    False  \n",
       "2                     True  \n",
       "3                    False  \n",
       "4                    False  \n",
       "5                     True  "
      ]
     },
     "execution_count": 3,
     "metadata": {},
     "output_type": "execute_result"
    }
   ],
   "source": [
    "pd.get_dummies(df,columns=['Favorite_Color','Preferred_Store'],drop_first=True)\n"
   ]
  },
  {
   "cell_type": "code",
   "execution_count": 7,
   "id": "d6fafd5b",
   "metadata": {},
   "outputs": [],
   "source": [
    "from sklearn.model_selection import train_test_split\n",
    "X_train, X_test, y_train, y_test=train_test_split(df.iloc[:,1:3],df.iloc[:,-1:],test_size=0.2,random_state=23)"
   ]
  },
  {
   "cell_type": "markdown",
   "id": "ae00617d",
   "metadata": {},
   "source": [
    "## One Hot Encoding using Sklearn"
   ]
  },
  {
   "cell_type": "code",
   "execution_count": 8,
   "id": "8d5db74f",
   "metadata": {},
   "outputs": [],
   "source": [
    "from sklearn.preprocessing import OneHotEncoder\n",
    "ohe=OneHotEncoder(drop='first',sparse_output=False)"
   ]
  },
  {
   "cell_type": "code",
   "execution_count": 9,
   "id": "610b10c0",
   "metadata": {},
   "outputs": [],
   "source": [
    "X_train_new=ohe.fit_transform(X_train[['Favorite_Color','Preferred_Store']])"
   ]
  },
  {
   "cell_type": "code",
   "execution_count": 10,
   "id": "7181379b",
   "metadata": {},
   "outputs": [
    {
     "data": {
      "text/plain": [
       "array([[1., 0., 0., 0., 1.],\n",
       "       [0., 0., 0., 1., 0.],\n",
       "       [0., 1., 0., 0., 0.],\n",
       "       [0., 0., 1., 0., 0.]])"
      ]
     },
     "execution_count": 10,
     "metadata": {},
     "output_type": "execute_result"
    }
   ],
   "source": [
    "X_train_new"
   ]
  },
  {
   "cell_type": "code",
   "execution_count": null,
   "id": "df34dbfc",
   "metadata": {},
   "outputs": [],
   "source": []
  }
 ],
 "metadata": {
  "kernelspec": {
   "display_name": "base",
   "language": "python",
   "name": "python3"
  },
  "language_info": {
   "codemirror_mode": {
    "name": "ipython",
    "version": 3
   },
   "file_extension": ".py",
   "mimetype": "text/x-python",
   "name": "python",
   "nbconvert_exporter": "python",
   "pygments_lexer": "ipython3",
   "version": "3.12.4"
  }
 },
 "nbformat": 4,
 "nbformat_minor": 5
}
